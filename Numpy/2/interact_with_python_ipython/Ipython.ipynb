{
 "cells": [
  {
   "attachments": {},
   "cell_type": "markdown",
   "metadata": {},
   "source": [
    "<h1 align=center style=\"line-height:200%;font-family:vazir;color:#0099cc\">\n",
    "<font face=\"vazir\" color=\"#0099cc\">\n",
    "تمرین پایتون تعاملی\n",
    "</font>\n",
    "</h1>\n",
    "\n",
    "\n",
    "<p dir=rtl style=\"direction: rtl;text-align: justify;line-height:200%;font-family:vazir;font-size:medium\">\n",
    "<font face=\"vazir\" size=3>\n",
    "در این تمرین می‌خواهیم یک سری عملیات ساده انجام دهیم تا با نت‌بوک پایتون و ویژگی‌های آن بهتر آشنا شوید.\n",
    "<br>\n",
    "در پایتون تابعی به نام <code>any</code> وجود دارد که یک <code>Iterator</code> (مثل دیکشنری، لیست یا تاپل) را می‌گیرد و اگر حداقل یک مقدار <code>True</code> داشته باشد پاسخ <code>True</code> تولید می‌کند (یعنی تنها وقتی <code>False</code> تولید می‌کند که تمام مقادیر آن <code>False</code> باشند).\n",
    "<br>\n",
    "مثال‌هایی از این تابع را در سلول زیر می‌بینید:\n",
    "\n",
    "</font>\n",
    "</p>"
   ]
  },
  {
   "cell_type": "code",
   "execution_count": 1,
   "metadata": {},
   "outputs": [
    {
     "name": "stdout",
     "output_type": "stream",
     "text": [
      "True\n",
      "False\n",
      "False\n",
      "True\n",
      "True\n"
     ]
    }
   ],
   "source": [
    "print(any([True, False, True]))\n",
    "print(any([False, False, False]))\n",
    "print(any([0, False]))\n",
    "print(any([1, 2, 3]))\n",
    "print(any([\"salaam\"]))"
   ]
  },
  {
   "attachments": {},
   "cell_type": "markdown",
   "metadata": {},
   "source": [
    "\n",
    "<h2 align=right style=\"line-height:200%;font-family:vazir;color:#0099cc\">\n",
    "<font face=\"vazir\" color=\"#0099cc\">\n",
    "قسمت اول\n",
    "</font>\n",
    "</h2>\n",
    "<p dir=rtl style=\"direction: rtl;text-align: justify;line-height:200%;font-family:vazir;font-size:medium\">\n",
    "<font face=\"vazir\" size=3>\n",
    "در سلول زیر تابعی بنویسد که کار تابع <code>any</code> را انجام دهد. تابع شما باید یک لیست را ورودی بگیرد (<code>x</code>) و اگر در لیست حداقل یک مقدار <code>True</code> وجود داشته باشد پاسخ <code>True</code> را برگرداند و در غیر این‌صورت (اگر تمام مقادیر <code>False</code> بودند) <code>False</code> برگرداند. دقت کنید که تابع باید خروجی را <code>return</code> کند (چاپ نکند).\n",
    "</font>\n",
    "</p>\n",
    "<p dir=rtl style=\"direction: rtl;text-align: justify;line-height:200%;font-family:vazir;font-size:medium\">\n",
    "<font face=\"vazir\" size=3>\n",
    "<span style=\"color:purple\"><b>نکته:</b></span>\n",
    "قاعدتاً‌ درون این تابع نباید از خود تابع <code>any</code> استفاده کنید، بلکه باید به‌صورت دستی رفتار آن را کدنویسی کنید.\n",
    "</font>\n",
    "</p>\n"
   ]
  },
  {
   "cell_type": "code",
   "execution_count": 3,
   "metadata": {},
   "outputs": [],
   "source": [
    "def my_any(x):\n",
    " "
   ]
  },
  {
   "attachments": {},
   "cell_type": "markdown",
   "metadata": {},
   "source": [
    "\n",
    "<p dir=rtl style=\"direction: rtl;text-align: justify;line-height:200%;font-family:vazir;font-size:medium\">\n",
    "<font face=\"vazir\" size=3>\n",
    "دستورات جادویی دارای آرگومان‌های بسیار کاربردی‌‌ای می‌باشند که برای مشاهده‌ی آن‌ها، می‌توان از ویژگی <code>introspection</code> استفاده کرد:\n",
    "\n",
    "</font>\n",
    "</p>\n",
    "\n"
   ]
  },
  {
   "cell_type": "code",
   "execution_count": null,
   "metadata": {},
   "outputs": [],
   "source": [
    "%timeit?"
   ]
  },
  {
   "attachments": {},
   "cell_type": "markdown",
   "metadata": {},
   "source": [
    "<p dir=rtl style=\"direction: rtl;text-align: justify;line-height:200%;font-family:vazir;font-size:medium\">\n",
    "<font face=\"vazir\" size=3>\n",
    "همان‌طور که در درسنامه‌ی پیشین هم مطالعه کردید علامت <code>%</code> در ابتدای این دستور بیان‌گر جادویی (magic) بودن آن است و علامت <code>?</code> انتها نیز به این معنی‌ست که قصد داریم از اطلاعات کلی این شیء یا تابع مطلع شویم.\n",
    "</font>\n",
    "</p>\n",
    "\n",
    "\n",
    "<p dir=rtl style=\"direction: rtl;text-align: justify;line-height:200%;font-family:vazir;font-size:medium\">\n",
    "<font face=\"vazir\" size=3>\n",
    "در خروجی سلول بالا توضیحات بسیار مفید و کاربردی‌ای را در رابطه با <code>timeit</code> مشاهده می‌کنید.\n",
    "مثال‌هایی هم برای آشنایی بیشتر آمده است. اگر دقت کنید می‌بینید که با تنظیم <code dir=ltr>-o</code> می‌توان خروجی دستور جادویی <code>timeit</code> را در متغیری ذخیره کرد و از آن اطلاعات بیشتری \n",
    "استخراج کرد.\n",
    "\n",
    "</font>\n",
    "</p>\n"
   ]
  },
  {
   "attachments": {},
   "cell_type": "markdown",
   "metadata": {},
   "source": [
    "<h2 align=right style=\"line-height:200%;font-family:vazir;color:#0099cc\">\n",
    "<font face=\"vazir\" color=\"#0099cc\">\n",
    "سوال دوم\n",
    "</font>\n",
    "</h2>\n",
    "\n",
    "<p dir=rtl style=\"direction: rtl;text-align: justify;line-height:200%;font-family:vazir;font-size:medium\">\n",
    "<font face=\"vazir\" size=3>\n",
    "در این قسمت یک لیست ورودی دلخواه انتخاب کرده (به‌عنوان مثال <code dir=ltr>[1, 2, 3]</code>) سپس یک‌بار آن را به تابع <code>my_any</code> ورودی دهید و با استفاده از دستور جادویی <code>timeit</code> و همچنین استفاده از آرگومان <code dir=ltr>-o</code> سرعت اجرای آن را محاسبه و در متغیر <code>a</code> ذخیره کنید. سپس به‌طریق مشابه سرعت اجرای تابع <code>any</code> را محاسبه کرده و در متغیر <code>b</code> ذخیره کنید.\n",
    "</font>\n",
    "</p>"
   ]
  },
  {
   "cell_type": "code",
   "execution_count": null,
   "metadata": {},
   "outputs": [],
   "source": [
    "a = # To-Do"
   ]
  },
  {
   "cell_type": "code",
   "execution_count": null,
   "metadata": {},
   "outputs": [],
   "source": [
    "b = # To-Do"
   ]
  },
  {
   "attachments": {},
   "cell_type": "markdown",
   "metadata": {},
   "source": [
    "<p dir=rtl style=\"direction: rtl;text-align: justify;line-height:200%;font-family:vazir;font-size:medium\">\n",
    "<font face=\"vazir\" size=3>\n",
    "شایان ذکر است که می‌توانید با استفاده از دو علامت سوال (<code>??</code>) در قابلیت <code>introspection</code> توضیحات و سورس کد یک تابع را ببینید:\n",
    "</font>\n",
    "</p>"
   ]
  },
  {
   "cell_type": "code",
   "execution_count": null,
   "metadata": {},
   "outputs": [],
   "source": [
    "??my_any"
   ]
  },
  {
   "cell_type": "code",
   "execution_count": null,
   "metadata": {},
   "outputs": [],
   "source": [
    "??any"
   ]
  },
  {
   "attachments": {},
   "cell_type": "markdown",
   "metadata": {},
   "source": [
    "<p dir=rtl style=\"direction: rtl;text-align: justify;line-height:200%;font-family:vazir;font-size:medium\">\n",
    "<font face=\"vazir\" size=3>\n",
    "با استفاده از دستور جادویی <code>save</code> کد تابع خود را در قالب فایل <code dir=ltr>.py</code> ذخیره کنید تا بتوانیم در سلول جواب‌ساز، آن را در فایل <code>result.zip</code> قرار دهیم.\n",
    "</font>\n",
    "</p>\n"
   ]
  },
  {
   "cell_type": "code",
   "execution_count": null,
   "metadata": {},
   "outputs": [],
   "source": [
    "from inspect import getsource\n",
    "\n",
    "%save my_any getsource(my_any)"
   ]
  },
  {
   "attachments": {},
   "cell_type": "markdown",
   "metadata": {},
   "source": [
    "\n",
    "<p dir=rtl style=\"direction: rtl;text-align: justify;line-height:200%;font-family:vazir;font-size:medium\">\n",
    "<font face=\"vazir\" size=3>\n",
    "فراموش نکنید که با <code>introspection</code> می‌توانید اطلاعات کاملی در مورد هر چیزی به دست آورید! پس اگر دستور <code>save</code> در سلول قبل برای‌تان ناآشنا بود کافیست به کمک دستور زیر اطلاعات آن را استخراج و مطالعه کنید.\n",
    "\n",
    "</font>\n",
    "</p>\n"
   ]
  },
  {
   "cell_type": "code",
   "execution_count": null,
   "metadata": {},
   "outputs": [],
   "source": [
    "%save?"
   ]
  },
  {
   "attachments": {},
   "cell_type": "markdown",
   "metadata": {},
   "source": [
    "<h2 align=right style=\"line-height:200%;font-family:vazir;color:#0099cc\">\n",
    "<font face=\"vazir\" color=\"#0099cc\">\n",
    "<b>سلول جواب‌ساز</b>\n",
    "</font>\n",
    "</h2>\n",
    "\n",
    "\n",
    "<p dir=rtl style=\"direction: rtl; text-align: justify; line-height:200%; font-family:vazir; font-size:medium\">\n",
    "<font face=\"vazir\" size=3>\n",
    "    برای ساخته‌شدن فایل <code>result.zip</code> سلول زیر را اجرا کنید. توجه داشته باشید که پیش از اجرای سلول زیر تغییرات اعمال شده در نت‌بوک را ذخیره کرده باشید (<code>ctrl+s</code>) تا در صورت نیاز به پشتیبانی امکان بررسی کد شما وجود داشته باشد.\n",
    "</font>\n",
    "</p>"
   ]
  },
  {
   "cell_type": "code",
   "execution_count": null,
   "metadata": {},
   "outputs": [],
   "source": [
    "import zlib\n",
    "import zipfile \n",
    "import joblib\n",
    "joblib.dump(a,\"a\")\n",
    "joblib.dump(b,\"b\")\n",
    "\n",
    "def compress(file_names):\n",
    "    print(\"File Paths:\")\n",
    "    print(file_names)\n",
    "    compression = zipfile.ZIP_DEFLATED\n",
    "    with zipfile.ZipFile(\"result.zip\", mode=\"w\") as zf:\n",
    "        for file_name in file_names:\n",
    "            zf.write('./' + file_name, file_name, compress_type=compression)\n",
    "\n",
    "file_names = ['my_any.py', 'Ipython.ipynb', 'a', 'b']\n",
    "compress(file_names)"
   ]
  }
 ],
 "metadata": {
  "kernelspec": {
   "display_name": "qenv",
   "language": "python",
   "name": "qenv"
  },
  "language_info": {
   "codemirror_mode": {
    "name": "ipython",
    "version": 3
   },
   "file_extension": ".py",
   "mimetype": "text/x-python",
   "name": "python",
   "nbconvert_exporter": "python",
   "pygments_lexer": "ipython3",
   "version": "3.11.8"
  },
  "varInspector": {
   "cols": {
    "lenName": "25",
    "lenType": 16,
    "lenVar": "200"
   },
   "kernels_config": {
    "python": {
     "delete_cmd_postfix": "",
     "delete_cmd_prefix": "del ",
     "library": "var_list.py",
     "varRefreshCmd": "print(var_dic_list())"
    },
    "r": {
     "delete_cmd_postfix": ") ",
     "delete_cmd_prefix": "rm(",
     "library": "var_list.r",
     "varRefreshCmd": "cat(var_dic_list()) "
    }
   },
   "types_to_exclude": [
    "module",
    "function",
    "builtin_function_or_method",
    "instance",
    "_Feature"
   ],
   "window_display": false
  },
  "vscode": {
   "interpreter": {
    "hash": "44e7e1b8fa2096bd5707ed7fd18b1724a2db25f4c565a7673f8b6e7bfc49d25d"
   }
  }
 },
 "nbformat": 4,
 "nbformat_minor": 4
}
