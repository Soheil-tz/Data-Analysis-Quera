{
 "cells": [
  {
   "attachments": {},
   "cell_type": "markdown",
   "id": "ff54573a",
   "metadata": {},
   "source": [
    "<h1 align=center style=\"line-height:200%;font-family:vazir;color:#0099cc\">\n",
    "<font face=\"vazir\" color=\"#0099cc\">\n",
    "هندوستان\n",
    "</font>\n",
    "</h1>\n",
    "\n",
    "<p dir=rtl style=\"direction: rtl;text-align: justify;line-height:200%;font-family:vazir;font-size:medium\">\n",
    "<font face=\"vazir\" size=3>\n",
    "در این تمرین به‌سراغ یک مجموعه‌داده از غذاهای هندوستان می‌رویم و بررسی می‌کنیم که هندوها تا چه حد ذائقه‌ی تندی دارند. همچنین چند مورد از دیرپزترین غذاهای‌شان را می‌یابیم.\n",
    "</font>\n",
    "</p>\n"
   ]
  },
  {
   "attachments": {},
   "cell_type": "markdown",
   "id": "f7cd7632",
   "metadata": {},
   "source": [
    "<h2 align=right style=\"line-height:200%;font-family:vazir;color:#0099cc\">\n",
    "<font face=\"vazir\" color=\"#0099cc\">\n",
    "مجموعه‌داده\n",
    "</font>\n",
    "</h2>\n",
    "\n",
    "<p dir=rtl style=\"direction: rtl;text-align: justify;line-height:200%;font-family:vazir;font-size:medium\">\n",
    "<font face=\"vazir\" size=3>\n",
    "داده‌های مرتبط با این تمرین در فایل <code>food.csv</code> قرار گرفته و شامل ستون‌های زیر است:\n",
    "</font>\n",
    "</p>\n",
    "\n",
    "<center>\n",
    "<div dir=rtl style=\"direction: rtl;line-height:200%;font-family:vazir;font-size:medium\">\n",
    "<font face=\"vazir\" size=3>\n",
    "\n",
    "    \n",
    "| ستون | توضیح |\n",
    "| :---: | :---: |\n",
    "| <code>name</code> | نام غذا |\n",
    "| <code>ingredients</code>| مواد تشکیل‌دهنده‌ی غذا|\n",
    "| <code>diet</code>|دارای دو مقدار <code>vegetarian</code> و <code>non vegetarian</code> است که نشان می‌دهد آیا غذا مناسب گیاه‌خواران هست یا خیر.|\n",
    "| <code>prep_time</code>| زمانی که طول می‌کشد تا غذا آماده شود. این زمان شامل زمان پخت نمی‌شود. مثلاً زمان پوست کندن یا شستن مواد اولیه در این ستون لحاظ شده‌اند.|\n",
    "| <code>cook_time</code>| زمان پخت یک غذا| \n",
    "| <code>flavor_profile</code>| مزه‌ی غذا را نشان می‌دهد. دارای ۴ مقدار <code>spicy</code> برای غذاهای تند، <code>sweet</code> برای غذاهای شیرین، <code>bitter</code> برای غذاهای تلخ و <code>sour</code> برای غذاهای ترش است.|\n",
    "| <code>course</code>| وعده‌ی اصلی، میان‌وعده، دسر یا پیش‌غذا بودن یک غذا را نشان می‌دهد.|\n",
    "| <code>state</code>| ایالتی که زادگاه غذاست یا حداقل این غذا در آن‌جا معروف است.|\n",
    "| <code>region</code>| منطقه‌ای که ایالت (<code>state</code>) در آن واقع شده است.|\n",
    "\n",
    "\n",
    "</font>\n",
    "</div>\n",
    "</center>"
   ]
  },
  {
   "cell_type": "code",
   "execution_count": 1,
   "id": "1d2bc674",
   "metadata": {},
   "outputs": [],
   "source": [
    "import pandas as pd \n",
    "import numpy as np"
   ]
  },
  {
   "cell_type": "code",
   "execution_count": 2,
   "id": "cf5dff88",
   "metadata": {},
   "outputs": [
    {
     "data": {
      "text/html": [
       "<div>\n",
       "<style scoped>\n",
       "    .dataframe tbody tr th:only-of-type {\n",
       "        vertical-align: middle;\n",
       "    }\n",
       "\n",
       "    .dataframe tbody tr th {\n",
       "        vertical-align: top;\n",
       "    }\n",
       "\n",
       "    .dataframe thead th {\n",
       "        text-align: right;\n",
       "    }\n",
       "</style>\n",
       "<table border=\"1\" class=\"dataframe\">\n",
       "  <thead>\n",
       "    <tr style=\"text-align: right;\">\n",
       "      <th></th>\n",
       "      <th>name</th>\n",
       "      <th>ingredients</th>\n",
       "      <th>diet</th>\n",
       "      <th>prep_time</th>\n",
       "      <th>cook_time</th>\n",
       "      <th>flavor_profile</th>\n",
       "      <th>course</th>\n",
       "      <th>state</th>\n",
       "      <th>region</th>\n",
       "    </tr>\n",
       "  </thead>\n",
       "  <tbody>\n",
       "    <tr>\n",
       "      <th>0</th>\n",
       "      <td>Balu shahi</td>\n",
       "      <td>Maida flour, yogurt, oil, sugar</td>\n",
       "      <td>vegetarian</td>\n",
       "      <td>45.0</td>\n",
       "      <td>25.0</td>\n",
       "      <td>sweet</td>\n",
       "      <td>dessert</td>\n",
       "      <td>West Bengal</td>\n",
       "      <td>East</td>\n",
       "    </tr>\n",
       "    <tr>\n",
       "      <th>1</th>\n",
       "      <td>Boondi</td>\n",
       "      <td>Gram flour, ghee, sugar</td>\n",
       "      <td>vegetarian</td>\n",
       "      <td>80.0</td>\n",
       "      <td>30.0</td>\n",
       "      <td>sweet</td>\n",
       "      <td>dessert</td>\n",
       "      <td>Rajasthan</td>\n",
       "      <td>West</td>\n",
       "    </tr>\n",
       "    <tr>\n",
       "      <th>2</th>\n",
       "      <td>Gajar ka halwa</td>\n",
       "      <td>Carrots, milk, sugar, ghee, cashews, raisins</td>\n",
       "      <td>vegetarian</td>\n",
       "      <td>15.0</td>\n",
       "      <td>60.0</td>\n",
       "      <td>sweet</td>\n",
       "      <td>dessert</td>\n",
       "      <td>Punjab</td>\n",
       "      <td>North</td>\n",
       "    </tr>\n",
       "    <tr>\n",
       "      <th>3</th>\n",
       "      <td>Ghevar</td>\n",
       "      <td>Flour, ghee, kewra, milk, clarified butter, su...</td>\n",
       "      <td>vegetarian</td>\n",
       "      <td>15.0</td>\n",
       "      <td>30.0</td>\n",
       "      <td>sweet</td>\n",
       "      <td>dessert</td>\n",
       "      <td>Rajasthan</td>\n",
       "      <td>West</td>\n",
       "    </tr>\n",
       "    <tr>\n",
       "      <th>4</th>\n",
       "      <td>Gulab jamun</td>\n",
       "      <td>Milk powder, plain flour, baking powder, ghee,...</td>\n",
       "      <td>vegetarian</td>\n",
       "      <td>15.0</td>\n",
       "      <td>40.0</td>\n",
       "      <td>sweet</td>\n",
       "      <td>dessert</td>\n",
       "      <td>West Bengal</td>\n",
       "      <td>East</td>\n",
       "    </tr>\n",
       "  </tbody>\n",
       "</table>\n",
       "</div>"
      ],
      "text/plain": [
       "             name                                        ingredients  \\\n",
       "0      Balu shahi                    Maida flour, yogurt, oil, sugar   \n",
       "1          Boondi                            Gram flour, ghee, sugar   \n",
       "2  Gajar ka halwa       Carrots, milk, sugar, ghee, cashews, raisins   \n",
       "3          Ghevar  Flour, ghee, kewra, milk, clarified butter, su...   \n",
       "4     Gulab jamun  Milk powder, plain flour, baking powder, ghee,...   \n",
       "\n",
       "         diet  prep_time  cook_time flavor_profile   course        state  \\\n",
       "0  vegetarian       45.0       25.0          sweet  dessert  West Bengal   \n",
       "1  vegetarian       80.0       30.0          sweet  dessert    Rajasthan   \n",
       "2  vegetarian       15.0       60.0          sweet  dessert       Punjab   \n",
       "3  vegetarian       15.0       30.0          sweet  dessert    Rajasthan   \n",
       "4  vegetarian       15.0       40.0          sweet  dessert  West Bengal   \n",
       "\n",
       "  region  \n",
       "0   East  \n",
       "1   West  \n",
       "2  North  \n",
       "3   West  \n",
       "4   East  "
      ]
     },
     "execution_count": 2,
     "metadata": {},
     "output_type": "execute_result"
    }
   ],
   "source": [
    "df = pd.read_csv(\"food.csv\")\n",
    "df.head()"
   ]
  },
  {
   "attachments": {},
   "cell_type": "markdown",
   "id": "067c1145",
   "metadata": {},
   "source": [
    "<h2 align=right style=\"line-height:200%;font-family:vazir;color:#0099cc\">\n",
    "<font face=\"vazir\" color=\"#0099cc\">\n",
    "قسمت اول\n",
    "</font>\n",
    "</h2>\n",
    "<p dir=rtl style=\"direction: rtl;text-align: justify;line-height:200%;font-family:vazir;font-size:medium\">\n",
    "<font face=\"vazir\" size=3>\n",
    "بسیار شنیده‌ایم که هندوها عاشق غذاهای تند هستند! حال می‌خواهیم با توجه به مجموعه‌داده‌ی موجود صحت این گزاره را بررسی کرده و ببینیم که چه نسبتی از کل غذاهای این مجموعه، دارای مزه‌ی تندی هستند؟\n",
    "برای این کار کافیست حاصل تقسیم تعداد غذاهای تند مزه را بر تعداد کل غذاها حساب کنید و در متغیر <code>spicy_ratio</code> ذخیره کنید.\n",
    "</font>\n",
    "</p>\n"
   ]
  },
  {
   "cell_type": "code",
   "execution_count": 3,
   "id": "d6461854",
   "metadata": {},
   "outputs": [],
   "source": [
    "spicy_foods_count = df[df['flavor_profile'] == 'spicy'].shape[0]\n",
    "number_of_elements = len(df['flavor_profile'])\n",
    "spicy_ratio =  spicy_foods_count / number_of_elements"
   ]
  },
  {
   "attachments": {},
   "cell_type": "markdown",
   "id": "5137d5bc",
   "metadata": {},
   "source": [
    "<h2 align=right style=\"line-height:200%;font-family:vazir;color:#0099cc\">\n",
    "<font face=\"vazir\" color=\"#0099cc\">\n",
    "قسمت دوم\n",
    "</font>\n",
    "</h2>\n",
    "<p dir=rtl style=\"direction: rtl;text-align: justify;line-height:200%;font-family:vazir;font-size:medium\">\n",
    "<font face=\"vazir\" size=3>\n",
    "اکنون می‌خواهیم بدانیم کدام غذاها از لحظه‌ی شروع آماده‌سازی مخلفات تا لحظه‌ی آماده‌ی سرو شدن، بیشترین زمان را مصرف می‌کنند.\n",
    "برای این‌کار باید جمع مدت زمان آماده‌سازی و زمان لازم برای طبخ غذا را در نظر گرفته و سپس <b>۱۰ غذایی</b> که بیشترین زمان را مصرف می‌کنند <b>به‌ترتیب نزولی</b> در قالب یک دیتافریم در متغیر <code>df_most_time_consuming</code> ذخیره کنید. \n",
    "</font>\n",
    "</p>\n",
    "\n",
    "<p dir=rtl style=\"direction: rtl;text-align: justify;line-height:200%;font-family:vazir;font-size:medium\">\n",
    "<font face=\"vazir\" size=3>\n",
    "<span style=\"color:#0099cc\"><b>نکته:</b></span>\n",
    "    فرمت و ترتیب ستون‌های دیتافریم <code>df_most_time_consuming</code> باید دقیقاً شبیه به دیتافریم <code>df</code> باشد. یعنی این دیتافریم دارای ۱۰ سطر و ۹ ستون خواهد بود.\n",
    "</font>\n",
    "</p>"
   ]
  },
  {
   "cell_type": "code",
   "execution_count": 9,
   "id": "ae1f814c",
   "metadata": {},
   "outputs": [],
   "source": [
    "# تابع برای محاسبه جمع cook_time و prep_time\n",
    "def sum_row(row):\n",
    "    return row['cook_time'] + row['prep_time']\n",
    "\n",
    "# اضافه کردن ستون جدید\n",
    "df['plus'] = df.apply(sum_row, axis=1)\n",
    "\n",
    "# مرتب‌سازی دیتافریم بر اساس ستون جدید به صورت نزولی\n",
    "df.sort_values(by='plus', ascending=False, inplace=True)\n",
    "df = df.head(10)\n",
    "# گرفتن ۱۰ غذایی که بیشترین زمان آماده‌سازی دارند\n",
    "df_most_time_consuming = df.copy()\n",
    "\n",
    "# حذف ستون اضافه شده\n",
    "df.drop(columns=['plus'], inplace=True)\n",
    "df_most_time_consuming.drop(columns=['plus'], inplace=True)\n",
    "df_most_time_consuming = df.head(10)"
   ]
  },
  {
   "cell_type": "markdown",
   "id": "7341ff2d",
   "metadata": {},
   "source": [
    "<h2 align=right style=\"line-height:200%;font-family:vazir;color:#0099cc\">\n",
    "<font face=\"vazir\" color=\"#0099cc\">\n",
    "<b>سلول جواب‌ساز</b>\n",
    "</font>\n",
    "</h2>\n"
   ]
  },
  {
   "cell_type": "code",
   "execution_count": 10,
   "id": "5f63b15c",
   "metadata": {},
   "outputs": [
    {
     "name": "stdout",
     "output_type": "stream",
     "text": [
      "File Paths:\n",
      "['spicy_ratio.npy', 'df_most_time_consuming.csv', 'hindustan.ipynb']\n"
     ]
    }
   ],
   "source": [
    "import zipfile\n",
    "\n",
    "np.save(\"spicy_ratio\", np.array(spicy_ratio))\n",
    "df_most_time_consuming.to_csv('df_most_time_consuming.csv', index=False)\n",
    "\n",
    "def compress(file_names):\n",
    "    print(\"File Paths:\")\n",
    "    print(file_names)\n",
    "    compression = zipfile.ZIP_DEFLATED\n",
    "    with zipfile.ZipFile(\"result.zip\", mode=\"w\") as zf:\n",
    "        for file_name in file_names:\n",
    "            zf.write('./' + file_name, file_name, compress_type=compression)\n",
    "\n",
    "file_names = [\"spicy_ratio.npy\", \"df_most_time_consuming.csv\", \"hindustan.ipynb\"]\n",
    "compress(file_names)"
   ]
  }
 ],
 "metadata": {
  "kernelspec": {
   "display_name": "qenv",
   "language": "python",
   "name": "qenv"
  },
  "language_info": {
   "codemirror_mode": {
    "name": "ipython",
    "version": 3
   },
   "file_extension": ".py",
   "mimetype": "text/x-python",
   "name": "python",
   "nbconvert_exporter": "python",
   "pygments_lexer": "ipython3",
   "version": "3.11.9"
  },
  "vscode": {
   "interpreter": {
    "hash": "44e7e1b8fa2096bd5707ed7fd18b1724a2db25f4c565a7673f8b6e7bfc49d25d"
   }
  }
 },
 "nbformat": 4,
 "nbformat_minor": 5
}
